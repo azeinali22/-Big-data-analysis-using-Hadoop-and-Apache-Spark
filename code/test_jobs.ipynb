{
 "cells": [
  {
   "cell_type": "code",
   "execution_count": 11,
   "id": "ff19c5af-ae0a-401b-9d59-5d69bd288909",
   "metadata": {},
   "outputs": [],
   "source": [
    "from pyspark.sql import SparkSession\n",
    "import time"
   ]
  },
  {
   "cell_type": "code",
   "execution_count": 12,
   "id": "0f99ca54-34bd-4072-91fd-f3f0cc57b1fa",
   "metadata": {},
   "outputs": [],
   "source": [
    "if 'spark' in locals():\n",
    "    spark.stop()"
   ]
  },
  {
   "cell_type": "code",
   "execution_count": 13,
   "id": "59d8ec11-8a58-4724-bbd5-20c7e4967b5b",
   "metadata": {},
   "outputs": [],
   "source": [
    "spark = SparkSession.builder \\\n",
    "                    .appName(\"Test Cluster\") \\\n",
    "                    .master(\"spark://192.168.250.94:7077\") \\\n",
    "                    .getOrCreate()"
   ]
  },
  {
   "cell_type": "code",
   "execution_count": 14,
   "id": "39e17e3f-1aea-4c54-8b76-308518d092fc",
   "metadata": {},
   "outputs": [],
   "source": [
    "data = [(x, x**2, x**3) for x in range(1, 1000000)]  # A large dataset\n",
    "columns = [\"Number\", \"Square\", \"Cube\"]\n",
    "large_df = spark.createDataFrame(data, columns)"
   ]
  },
  {
   "cell_type": "code",
   "execution_count": 7,
   "id": "f1dea0a9-c616-4ad0-bd32-b25b2cd6d178",
   "metadata": {},
   "outputs": [],
   "source": [
    "transformed_df = large_df.filter(large_df[\"Number\"] % 2 == 0).select(\"Number\", \"Square\",\"cube\")"
   ]
  },
  {
   "cell_type": "code",
   "execution_count": null,
   "id": "076aee68-6217-479e-b28a-11fc1b340df1",
   "metadata": {},
   "outputs": [],
   "source": [
    "transformed_df.show()"
   ]
  },
  {
   "cell_type": "code",
   "execution_count": null,
   "id": "7be8b973-d2dd-4bfc-8ed9-2cdff0cb19ce",
   "metadata": {},
   "outputs": [],
   "source": [
    "print(\"Task completed, pausing to monitor Spark UI...\")\n",
    "time.sleep(600)  # Pause for 10 minutes to check the Spark UI\n",
    "\n",
    "# Stop the Spark Session\n",
    "spark.stop()"
   ]
  },
  {
   "cell_type": "code",
   "execution_count": 31,
   "id": "9c63c9b3-e00b-459b-8662-c51c3ad5a1a9",
   "metadata": {},
   "outputs": [
    {
     "data": {
      "text/plain": [
       "'local[*]'"
      ]
     },
     "execution_count": 31,
     "metadata": {},
     "output_type": "execute_result"
    }
   ],
   "source": [
    "spark.sparkContext.master"
   ]
  },
  {
   "cell_type": "code",
   "execution_count": null,
   "id": "08e63488-d788-4589-aead-0f5bf263ae75",
   "metadata": {},
   "outputs": [],
   "source": []
  }
 ],
 "metadata": {
  "kernelspec": {
   "display_name": "Python 3.9 (oldPy)",
   "language": "python",
   "name": "oldpy"
  },
  "language_info": {
   "codemirror_mode": {
    "name": "ipython",
    "version": 3
   },
   "file_extension": ".py",
   "mimetype": "text/x-python",
   "name": "python",
   "nbconvert_exporter": "python",
   "pygments_lexer": "ipython3",
   "version": "3.9.20"
  }
 },
 "nbformat": 4,
 "nbformat_minor": 5
}
